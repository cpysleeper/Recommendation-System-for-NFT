{
 "cells": [
  {
   "cell_type": "code",
   "execution_count": 1,
   "id": "9fe67434",
   "metadata": {},
   "outputs": [
    {
     "data": {
      "application/vnd.jupyter.widget-view+json": {
       "model_id": "9ae1ebcd6cc448aa8620eabe382f4f35",
       "version_major": 2,
       "version_minor": 0
      },
      "text/plain": [
       "Batches:   0%|          | 0/1240 [00:00<?, ?it/s]"
      ]
     },
     "metadata": {},
     "output_type": "display_data"
    }
   ],
   "source": [
    "\"\"\"\n",
    "NFT Collection Recommender System with Gradio UI and LLM Integration\n",
    "- Vector search using multilingual-e5-large-instruct\n",
    "- Top-k results passed to LLM (Phi-3.5-mini-instruct) for reasoning\n",
    "\"\"\"\n",
    "\n",
    "import pandas as pd\n",
    "import numpy as np\n",
    "import faiss\n",
    "import gradio as gr\n",
    "from sentence_transformers import SentenceTransformer\n",
    "from transformers import AutoTokenizer, AutoModelForCausalLM, pipeline\n",
    "import torch\n",
    "\n",
    "# Load NFT data\n",
    "df = pd.read_csv(\"/Users/cpysleeper/comp631_proj/NFT_collections.csv\")\n",
    "documents = (df[\"title\"].fillna(\"\") + \" \" + df[\"text\"].fillna(\"\")).tolist()\n",
    "\n",
    "# Load embedding model\n",
    "embed_model = SentenceTransformer(\"intfloat/multilingual-e5-large-instruct\")\n",
    "doc_embeddings = embed_model.encode(\n",
    "    [f\"passage: {doc}\" for doc in documents],\n",
    "    convert_to_numpy=True,\n",
    "    show_progress_bar=True\n",
    ")\n",
    "\n",
    "# Build FAISS index\n",
    "dim = doc_embeddings.shape[1]\n",
    "index = faiss.IndexFlatL2(dim)\n",
    "index.add(doc_embeddings)\n",
    "\n",
    "\n",
    "\n",
    "\n",
    "\n"
   ]
  },
  {
   "cell_type": "code",
   "execution_count": 2,
   "id": "e4c7c650",
   "metadata": {},
   "outputs": [
    {
     "data": {
      "application/vnd.jupyter.widget-view+json": {
       "model_id": "6424751fe21946b3af0ad73d8025a95d",
       "version_major": 2,
       "version_minor": 0
      },
      "text/plain": [
       "Loading checkpoint shards:   0%|          | 0/2 [00:00<?, ?it/s]"
      ]
     },
     "metadata": {},
     "output_type": "display_data"
    },
    {
     "name": "stderr",
     "output_type": "stream",
     "text": [
      "Device set to use mps:0\n"
     ]
    }
   ],
   "source": [
    "from transformers import AutoTokenizer, AutoModelForCausalLM\n",
    "tokenizer = AutoTokenizer.from_pretrained(\"microsoft/Phi-3.5-mini-instruct\")\n",
    "phi_model = AutoModelForCausalLM.from_pretrained(\"microsoft/Phi-3.5-mini-instruct\")\n",
    "llm = pipeline(\"text-generation\", model=phi_model, tokenizer=tokenizer, torch_dtype=torch.float16, device_map=\"auto\")\n",
    "\n"
   ]
  },
  {
   "cell_type": "code",
   "execution_count": 3,
   "id": "3706affd",
   "metadata": {},
   "outputs": [
    {
     "name": "stdout",
     "output_type": "stream",
     "text": [
      "Running on local URL:  http://127.0.0.1:7860\n",
      "\n",
      "To create a public link, set `share=True` in `launch()`.\n"
     ]
    },
    {
     "data": {
      "text/html": [
       "<div><iframe src=\"http://127.0.0.1:7860/\" width=\"100%\" height=\"500\" allow=\"autoplay; camera; microphone; clipboard-read; clipboard-write;\" frameborder=\"0\" allowfullscreen></iframe></div>"
      ],
      "text/plain": [
       "<IPython.core.display.HTML object>"
      ]
     },
     "metadata": {},
     "output_type": "display_data"
    },
    {
     "name": "stderr",
     "output_type": "stream",
     "text": [
      "/Users/cpysleeper/miniconda3/envs/gdal0/lib/python3.9/site-packages/transformers/pytorch_utils.py:332: UserWarning: To copy construct from a tensor, it is recommended to use sourceTensor.clone().detach() or sourceTensor.clone().detach().requires_grad_(True), rather than torch.tensor(sourceTensor).\n",
      "  test_elements = torch.tensor(test_elements)\n"
     ]
    }
   ],
   "source": [
    "# Define the query interface\n",
    "def search_nft_with_reasoning(query: str, k: int = 3) -> str:\n",
    "    query_embed = embed_model.encode(f\"query: {query}\", convert_to_numpy=True)\n",
    "    query_embed = np.expand_dims(query_embed, axis=0)\n",
    "\n",
    "    _, indices = index.search(query_embed, k)\n",
    "    top_docs = df.iloc[indices[0]]\n",
    "\n",
    "    context = \"\\n---\\n\".join(\n",
    "        f\"Title: {row['title']}\\nDescription: {row['text']}\" for _, row in top_docs.iterrows()\n",
    "    )\n",
    "\n",
    "    prompt = (\n",
    "        f\"You are an expert NFT advisor. Based on the following NFT collections,\\n\"\n",
    "        f\"recommend which are the most relevant for the user query: '{query}'.\\n\"\n",
    "        f\"\\nNFTs:\\n{context}\\n\\nAnswer:\"\n",
    "    )\n",
    "\n",
    "    response = llm(prompt, max_new_tokens=256, do_sample=False)[0]['generated_text']\n",
    "    return response[len(prompt):].strip()\n",
    "\n",
    "# Gradio UI\n",
    "demo = gr.Interface(\n",
    "    fn=search_nft_with_reasoning,\n",
    "    inputs=gr.Textbox(label=\"Enter your NFT interest or query\"),\n",
    "    outputs=gr.Textbox(label=\"Recommended Collections with Reasoning\"),\n",
    "    title=\"NFT Collection Recommender with LLM\",\n",
    "    description=\"This app retrieves top-k NFT collections using semantic search and explains the matches using a tiny Mistral model.\"\n",
    ")\n",
    "\n",
    "if __name__ == \"__main__\":\n",
    "    demo.launch()\n"
   ]
  },
  {
   "cell_type": "code",
   "execution_count": null,
   "id": "16d2cfad",
   "metadata": {},
   "outputs": [],
   "source": []
  }
 ],
 "metadata": {
  "kernelspec": {
   "display_name": "Python 3 (ipykernel)",
   "language": "python",
   "name": "python3"
  },
  "language_info": {
   "codemirror_mode": {
    "name": "ipython",
    "version": 3
   },
   "file_extension": ".py",
   "mimetype": "text/x-python",
   "name": "python",
   "nbconvert_exporter": "python",
   "pygments_lexer": "ipython3",
   "version": "3.9.18"
  }
 },
 "nbformat": 4,
 "nbformat_minor": 5
}
